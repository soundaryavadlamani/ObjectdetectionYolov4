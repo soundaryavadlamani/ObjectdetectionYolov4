{
  "nbformat": 4,
  "nbformat_minor": 0,
  "metadata": {
    "colab": {
      "provenance": [],
      "authorship_tag": "ABX9TyOsRMEuwRkKPvrhmrRI+Ut0",
      "include_colab_link": true
    },
    "kernelspec": {
      "name": "python3",
      "display_name": "Python 3"
    },
    "language_info": {
      "name": "python"
    }
  },
  "cells": [
    {
      "cell_type": "markdown",
      "metadata": {
        "id": "view-in-github",
        "colab_type": "text"
      },
      "source": [
        "<a href=\"https://colab.research.google.com/github/soundaryavadlamani/ObjectdetectionYolov4/blob/main/yolov4.ipynb\" target=\"_parent\"><img src=\"https://colab.research.google.com/assets/colab-badge.svg\" alt=\"Open In Colab\"/></a>"
      ]
    },
    {
      "cell_type": "code",
      "execution_count": null,
      "metadata": {
        "colab": {
          "base_uri": "https://localhost:8080/"
        },
        "id": "ARGCmj0_tgN5",
        "outputId": "333ac1b6-2eaf-4df3-e1ac-54766dc620b2"
      },
      "outputs": [
        {
          "output_type": "stream",
          "name": "stdout",
          "text": [
            "/\n",
            "Drive already mounted at /content/gdrive; to attempt to forcibly remount, call drive.mount(\"/content/gdrive\", force_remount=True).\n",
            "ln: failed to create symbolic link '/mydrive/My Drive': File exists\n",
            "class.names  data.data\tobj.zip  training  train-test.py  yolov4_custom.cfg\n"
          ]
        }
      ],
      "source": [
        "#mount drive\n",
        "%cd ..\n",
        "from google.colab import drive\n",
        "drive.mount('/content/gdrive')\n",
        "\n",
        "# this creates a symbolic link so that now the path /content/gdrive/My\\ Drive/ is equal to /mydrive\n",
        "!ln -s /content/gdrive/My\\ Drive/ /mydrive\n",
        "\n",
        "# list contents in yolov4-tiny folder in your drive\n",
        "!ls /mydrive/yolov4-custom/"
      ]
    },
    {
      "cell_type": "code",
      "source": [
        "!git clone https://github.com/AlexeyAB/darknet"
      ],
      "metadata": {
        "colab": {
          "base_uri": "https://localhost:8080/"
        },
        "id": "0-oZhmFft0hM",
        "outputId": "db69e141-9b0e-4443-b965-1648049dde23"
      },
      "execution_count": null,
      "outputs": [
        {
          "output_type": "stream",
          "name": "stdout",
          "text": [
            "Cloning into 'darknet'...\n",
            "remote: Enumerating objects: 15490, done.\u001b[K\n",
            "remote: Total 15490 (delta 0), reused 0 (delta 0), pack-reused 15490\u001b[K\n",
            "Receiving objects: 100% (15490/15490), 14.09 MiB | 20.55 MiB/s, done.\n",
            "Resolving deltas: 100% (10409/10409), done.\n"
          ]
        }
      ]
    },
    {
      "cell_type": "code",
      "source": [
        "# change makefile to have GPU and OPENCV enabled\n",
        "# also set CUDNN, CUDNN_HALF and LIBSO to 1\n",
        "\n",
        "%cd darknet/\n",
        "!sed -i 's/OPENCV=0/OPENCV=1/' Makefile\n",
        "!sed -i 's/GPU=0/GPU=1/' Makefile\n",
        "!sed -i 's/CUDNN=0/CUDNN=1/' Makefile\n",
        "!sed -i 's/CUDNN_HALF=0/CUDNN_HALF=1/' Makefile\n",
        "!sed -i 's/LIBSO=0/LIBSO=1/' Makefile"
      ],
      "metadata": {
        "colab": {
          "base_uri": "https://localhost:8080/"
        },
        "id": "9d9TnWSYvMmX",
        "outputId": "09117fa4-e108-47a8-bda4-f37a0d5f7bae"
      },
      "execution_count": null,
      "outputs": [
        {
          "output_type": "stream",
          "name": "stdout",
          "text": [
            "/darknet\n"
          ]
        }
      ]
    },
    {
      "cell_type": "code",
      "source": [
        "# build darknet \n",
        "!make"
      ],
      "metadata": {
        "colab": {
          "base_uri": "https://localhost:8080/"
        },
        "id": "nNSfmXtnvNfr",
        "outputId": "fe5eb330-5b4c-4797-aba1-e4e561402854"
      },
      "execution_count": null,
      "outputs": [
        {
          "output_type": "stream",
          "name": "stdout",
          "text": [
            "make: *** No targets specified and no makefile found.  Stop.\n"
          ]
        }
      ]
    }
  ]
}